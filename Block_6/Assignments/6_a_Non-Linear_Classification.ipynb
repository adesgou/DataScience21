{
 "cells": [
  {
   "cell_type": "markdown",
   "metadata": {},
   "source": [
    "# Block 6 Exercise 1: Non-Linear Classification"
   ]
  },
  {
   "cell_type": "markdown",
   "metadata": {},
   "source": [
    "## MNIST Data\n",
    "We return to the MNIST data set on handwritten digits to compare non-linear classification algorithms ...   "
   ]
  },
  {
   "cell_type": "code",
   "execution_count": 1,
   "metadata": {},
   "outputs": [],
   "source": [
    "#imports \n",
    "import matplotlib.pyplot as plt\n",
    "import numpy as np\n",
    "from sklearn.datasets import fetch_openml"
   ]
  },
  {
   "cell_type": "code",
   "execution_count": 2,
   "metadata": {},
   "outputs": [],
   "source": [
    "# Load data from https://www.openml.org/d/554\n",
    "X, y = fetch_openml('mnist_784', version=1, return_X_y=True)\n"
   ]
  },
  {
   "cell_type": "code",
   "execution_count": 3,
   "metadata": {},
   "outputs": [
    {
     "data": {
      "text/plain": [
       "(70000, 784)"
      ]
     },
     "execution_count": 3,
     "metadata": {},
     "output_type": "execute_result"
    }
   ],
   "source": [
    "#the full MNIST data set contains 70k samples of digits 0-9 as 28*28 gray scale images (represented as 784 dim vectors)\n",
    "np.shape(X)"
   ]
  },
  {
   "cell_type": "code",
   "execution_count": 4,
   "metadata": {},
   "outputs": [
    {
     "data": {
      "text/plain": [
       "0.0"
      ]
     },
     "execution_count": 4,
     "metadata": {},
     "output_type": "execute_result"
    }
   ],
   "source": [
    "X.min()"
   ]
  },
  {
   "cell_type": "code",
   "execution_count": 5,
   "metadata": {},
   "outputs": [
    {
     "data": {
      "text/plain": [
       "(1, 784)"
      ]
     },
     "execution_count": 5,
     "metadata": {},
     "output_type": "execute_result"
    }
   ],
   "source": [
    "#look at max/min value in the data\n",
    "X.max()\n",
    "X[:1].shape"
   ]
  },
  {
   "cell_type": "markdown",
   "metadata": {},
   "source": [
    "### E1.1: Cross-Validation and Support Vector Machines\n",
    "Train and optimize  C-SVM classifier on MNIST (https://scikit-learn.org/stable/modules/generated/sklearn.svm.SVC.html#sklearn.svm.SVC)\n",
    "* use a RBF kernel\n",
    "* use *random search* with cross-validation to find the best settings for *gamma* and *C* (https://scikit-learn.org/stable/modules/generated/sklearn.model_selection.RandomizedSearchCV.html#sklearn.model_selection.RandomizedSearchCV)"
   ]
  },
  {
   "cell_type": "code",
   "execution_count": 6,
   "metadata": {},
   "outputs": [],
   "source": [
    "from sklearn.pipeline import make_pipeline\n",
    "from sklearn.preprocessing import StandardScaler\n",
    "from sklearn.svm import SVC\n",
    "\n",
    "from sklearn.model_selection import GridSearchCV, RandomizedSearchCV\n",
    "\n",
    "from sklearn.model_selection import train_test_split"
   ]
  },
  {
   "cell_type": "code",
   "execution_count": 7,
   "metadata": {},
   "outputs": [],
   "source": [
    "X_train, X_test, y_train, y_test = train_test_split(X, y, train_size=0.3, random_state=42)"
   ]
  },
  {
   "cell_type": "code",
   "execution_count": 8,
   "metadata": {},
   "outputs": [
    {
     "name": "stdout",
     "output_type": "stream",
     "text": [
      "[LibSVM]Wall time: 4min 43s\n"
     ]
    },
    {
     "data": {
      "text/plain": [
       "0.969530612244898"
      ]
     },
     "execution_count": 8,
     "metadata": {},
     "output_type": "execute_result"
    }
   ],
   "source": [
    "%%time\n",
    "clf = SVC(kernel='rbf')\n",
    "clf.fit(X_train, y_train)\n",
    "clf.score(X_test, y_test)"
   ]
  },
  {
   "cell_type": "code",
   "execution_count": 9,
   "metadata": {},
   "outputs": [],
   "source": [
    "n_iter_search = 5\n",
    "\n",
    "# specify parameters and distributions\n",
    "param_dist = {\n",
    "    \"C\": np.linspace(0.1,15,n_iter_search),\n",
    "    \"gamma\": ['scale', 'auto']\n",
    "    }\n",
    "\n",
    "# run randomized search\n",
    "random_search = RandomizedSearchCV(clf, param_distributions=param_dist, n_iter=n_iter_search, n_jobs=-1, verbose=10)"
   ]
  },
  {
   "cell_type": "code",
   "execution_count": 10,
   "metadata": {
    "tags": []
   },
   "outputs": [
    {
     "name": "stdout",
     "output_type": "stream",
     "text": [
      "Fitting 5 folds for each of 5 candidates, totalling 25 fits\n"
     ]
    },
    {
     "name": "stderr",
     "output_type": "stream",
     "text": [
      "[Parallel(n_jobs=-1)]: Using backend LokyBackend with 6 concurrent workers.\n",
      "[Parallel(n_jobs=-1)]: Done   1 tasks      | elapsed:  1.5min\n",
      "[Parallel(n_jobs=-1)]: Done   6 tasks      | elapsed:  3.0min\n",
      "[Parallel(n_jobs=-1)]: Done  13 tasks      | elapsed:  4.6min\n",
      "[Parallel(n_jobs=-1)]: Done  17 out of  25 | elapsed:  6.0min remaining:  2.8min\n",
      "[Parallel(n_jobs=-1)]: Done  20 out of  25 | elapsed:  7.3min remaining:  1.8min\n",
      "[Parallel(n_jobs=-1)]: Done  23 out of  25 | elapsed: 15.4min remaining:  1.3min\n",
      "[Parallel(n_jobs=-1)]: Done  25 out of  25 | elapsed: 15.5min finished\n"
     ]
    },
    {
     "name": "stdout",
     "output_type": "stream",
     "text": [
      "[LibSVM]"
     ]
    }
   ],
   "source": [
    "random_search.fit(X_train, y_train);"
   ]
  },
  {
   "cell_type": "code",
   "execution_count": 11,
   "metadata": {},
   "outputs": [
    {
     "name": "stdout",
     "output_type": "stream",
     "text": [
      "{'gamma': 'scale', 'C': 11.275}\n",
      "0.975047619047619\n"
     ]
    }
   ],
   "source": [
    "print(random_search.best_params_)\n",
    "print(random_search.best_score_)"
   ]
  },
  {
   "cell_type": "markdown",
   "metadata": {},
   "source": [
    "### E1.2: Pipelines and simple Neural Networks\n",
    "Split the MNIST data into  train- and test-sets and then train and evaluate a simple Multi Layer Perceptron (MLP) network. Since the non-linear activation functions of MLPs are sensitive to the scaling on the input (recall the *sigmoid* function), we need to scale all input values to [0,1] \n",
    "\n",
    "* combine all steps of your training in a SKL pipeline (https://scikit-learn.org/stable/modules/compose.html#pipeline)\n",
    "* use a SKL-scaler to scale the data (https://scikit-learn.org/stable/modules/generated/sklearn.preprocessing.StandardScaler.html)\n",
    "* MLP Parameters: https://scikit-learn.org/stable/modules/generated/sklearn.neural_network.MLPClassifier.html#sklearn.neural_network.MLPClassifier\n",
    "    * use a *SGD* solver\n",
    "    * use *tanh* as activation function\n",
    "    * compare networks with 1, 2 and 3 layers, use different numbers of neurons per layer\n",
    "    * adjust training parameters *alpha* (regularization) and *learning rate* - how sensitive is the model to these parameters?\n",
    "    * Hint: do not change all parameters at the same time, split into several experiments\n",
    "* How hard is it to find the best parameters? How many experiments would you need to find the best parameters?\n",
    "    \n"
   ]
  },
  {
   "cell_type": "code",
   "execution_count": 15,
   "metadata": {},
   "outputs": [],
   "source": [
    "from sklearn.pipeline import Pipeline\n",
    "from sklearn.pipeline import make_pipeline\n",
    "\n",
    "from sklearn.preprocessing import StandardScaler\n",
    "from sklearn.preprocessing import MinMaxScaler\n",
    "\n",
    "from sklearn.neural_network import MLPClassifier\n",
    "\n",
    "import pandas as pd"
   ]
  },
  {
   "cell_type": "code",
   "execution_count": 16,
   "metadata": {},
   "outputs": [],
   "source": [
    "X_train, X_test, y_train, y_test = train_test_split(X, y, train_size=0.3, random_state=42)"
   ]
  },
  {
   "cell_type": "code",
   "execution_count": 17,
   "metadata": {},
   "outputs": [],
   "source": [
    "my_data = {'step': [],\n",
    "    'score': []}\n",
    "\n",
    "step_score_table = pd.DataFrame(my_data)"
   ]
  },
  {
   "cell_type": "code",
   "execution_count": 18,
   "metadata": {},
   "outputs": [
    {
     "name": "stdout",
     "output_type": "stream",
     "text": [
      "Iteration 1, loss = 1.78232248\n",
      "Iteration 2, loss = 1.11249523\n",
      "Iteration 3, loss = 0.85675403\n",
      "Iteration 4, loss = 0.72629385\n",
      "Iteration 5, loss = 0.64663508\n",
      "Iteration 6, loss = 0.59221493\n",
      "Iteration 7, loss = 0.55224376\n",
      "Iteration 8, loss = 0.52157749\n",
      "Iteration 9, loss = 0.49703157\n",
      "Iteration 10, loss = 0.47684886\n",
      "Iteration 11, loss = 0.45989504\n",
      "Iteration 12, loss = 0.44536782\n",
      "Iteration 13, loss = 0.43287169\n",
      "Iteration 14, loss = 0.42182606\n",
      "Iteration 15, loss = 0.41202970\n",
      "Iteration 16, loss = 0.40319192\n",
      "Iteration 17, loss = 0.39523917\n",
      "Iteration 18, loss = 0.38803164\n",
      "Iteration 19, loss = 0.38144501\n",
      "Iteration 20, loss = 0.37539864\n",
      "Iteration 21, loss = 0.36975732\n",
      "Iteration 22, loss = 0.36453835\n",
      "Iteration 23, loss = 0.35958753\n",
      "Iteration 24, loss = 0.35507049\n",
      "Iteration 25, loss = 0.35075090\n",
      "Iteration 26, loss = 0.34673077\n",
      "Iteration 27, loss = 0.34284896\n",
      "Iteration 28, loss = 0.33921564\n",
      "Iteration 29, loss = 0.33575756\n",
      "Iteration 30, loss = 0.33245636\n",
      "Iteration 31, loss = 0.32932032\n",
      "Iteration 32, loss = 0.32634658\n",
      "Iteration 33, loss = 0.32339367\n",
      "Iteration 34, loss = 0.32055843\n",
      "Iteration 35, loss = 0.31792679\n",
      "Iteration 36, loss = 0.31535434\n",
      "Iteration 37, loss = 0.31289048\n",
      "Iteration 38, loss = 0.31046981\n",
      "Iteration 39, loss = 0.30815551\n",
      "Iteration 40, loss = 0.30592183\n",
      "Iteration 41, loss = 0.30366165\n",
      "Iteration 42, loss = 0.30157149\n",
      "Iteration 43, loss = 0.29950070\n",
      "Iteration 44, loss = 0.29745009\n",
      "Iteration 45, loss = 0.29556668\n",
      "Iteration 46, loss = 0.29359125\n",
      "Iteration 47, loss = 0.29172633\n",
      "Iteration 48, loss = 0.28990124\n",
      "Iteration 49, loss = 0.28811407\n",
      "Iteration 50, loss = 0.28633327\n",
      "Iteration 51, loss = 0.28466607\n",
      "Iteration 52, loss = 0.28301391\n",
      "Iteration 53, loss = 0.28125836\n",
      "Iteration 54, loss = 0.27974607\n",
      "Iteration 55, loss = 0.27814507\n",
      "Iteration 56, loss = 0.27655485\n",
      "Iteration 57, loss = 0.27502831\n",
      "Iteration 58, loss = 0.27353155\n",
      "Iteration 59, loss = 0.27206323\n",
      "Iteration 60, loss = 0.27060378\n",
      "Iteration 61, loss = 0.26920200\n",
      "Iteration 62, loss = 0.26776537\n",
      "Iteration 63, loss = 0.26636918\n",
      "Iteration 64, loss = 0.26493136\n",
      "Iteration 65, loss = 0.26368887\n",
      "Iteration 66, loss = 0.26236636\n",
      "Iteration 67, loss = 0.26095178\n",
      "Iteration 68, loss = 0.25966009\n",
      "Iteration 69, loss = 0.25835186\n",
      "Iteration 70, loss = 0.25706134\n",
      "Iteration 71, loss = 0.25583009\n",
      "Iteration 72, loss = 0.25457255\n",
      "Iteration 73, loss = 0.25337427\n",
      "Iteration 74, loss = 0.25218258\n",
      "Iteration 75, loss = 0.25095803\n",
      "Iteration 76, loss = 0.24985494\n",
      "Iteration 77, loss = 0.24857569\n",
      "Iteration 78, loss = 0.24747181\n",
      "Iteration 79, loss = 0.24634721\n",
      "Iteration 80, loss = 0.24518147\n",
      "Iteration 81, loss = 0.24411610\n",
      "Iteration 82, loss = 0.24296640\n",
      "Iteration 83, loss = 0.24188122\n",
      "Iteration 84, loss = 0.24080295\n",
      "Iteration 85, loss = 0.23975572\n",
      "Iteration 86, loss = 0.23868304\n",
      "Iteration 87, loss = 0.23757472\n",
      "Iteration 88, loss = 0.23662133\n",
      "Iteration 89, loss = 0.23552220\n",
      "Iteration 90, loss = 0.23452433\n",
      "Iteration 91, loss = 0.23351619\n",
      "Iteration 92, loss = 0.23248710\n",
      "Iteration 93, loss = 0.23149305\n",
      "Iteration 94, loss = 0.23049867\n",
      "Iteration 95, loss = 0.22955146\n",
      "Iteration 96, loss = 0.22856064\n",
      "Iteration 97, loss = 0.22758886\n",
      "Iteration 98, loss = 0.22666939\n",
      "Iteration 99, loss = 0.22567347\n",
      "Iteration 100, loss = 0.22478318\n",
      "Iteration 101, loss = 0.22381881\n",
      "Iteration 102, loss = 0.22289133\n",
      "Iteration 103, loss = 0.22192413\n",
      "Iteration 104, loss = 0.22109446\n",
      "Iteration 105, loss = 0.22016023\n",
      "Iteration 106, loss = 0.21930374\n",
      "Iteration 107, loss = 0.21843188\n",
      "Iteration 108, loss = 0.21759869\n",
      "Iteration 109, loss = 0.21666327\n",
      "Iteration 110, loss = 0.21583311\n",
      "Iteration 111, loss = 0.21495540\n",
      "Iteration 112, loss = 0.21410876\n",
      "Iteration 113, loss = 0.21325780\n",
      "Iteration 114, loss = 0.21242747\n",
      "Iteration 115, loss = 0.21157896\n",
      "Iteration 116, loss = 0.21077887\n",
      "Iteration 117, loss = 0.20997507\n",
      "Iteration 118, loss = 0.20914468\n",
      "Iteration 119, loss = 0.20835644\n",
      "Iteration 120, loss = 0.20754136\n",
      "Iteration 121, loss = 0.20679758\n",
      "Iteration 122, loss = 0.20599838\n",
      "Iteration 123, loss = 0.20515762\n",
      "Iteration 124, loss = 0.20446133\n",
      "Iteration 125, loss = 0.20358926\n",
      "Iteration 126, loss = 0.20291126\n",
      "Iteration 127, loss = 0.20209622\n",
      "Iteration 128, loss = 0.20136030\n",
      "Iteration 129, loss = 0.20059794\n",
      "Iteration 130, loss = 0.19990136\n",
      "Iteration 131, loss = 0.19909337\n",
      "Iteration 132, loss = 0.19842683\n",
      "Iteration 133, loss = 0.19764881\n",
      "Iteration 134, loss = 0.19696311\n",
      "Iteration 135, loss = 0.19624614\n",
      "Iteration 136, loss = 0.19552229\n",
      "Iteration 137, loss = 0.19485531\n",
      "Iteration 138, loss = 0.19412038\n",
      "Iteration 139, loss = 0.19345711\n",
      "Iteration 140, loss = 0.19276553\n",
      "Iteration 141, loss = 0.19209391\n",
      "Iteration 142, loss = 0.19139012\n",
      "Iteration 143, loss = 0.19071810\n",
      "Iteration 144, loss = 0.19004439\n",
      "Iteration 145, loss = 0.18938076\n",
      "Iteration 146, loss = 0.18869048\n",
      "Iteration 147, loss = 0.18800159\n",
      "Iteration 148, loss = 0.18734642\n",
      "Iteration 149, loss = 0.18673493\n",
      "Iteration 150, loss = 0.18605425\n",
      "Iteration 151, loss = 0.18543160\n",
      "Iteration 152, loss = 0.18478333\n",
      "Iteration 153, loss = 0.18416454\n",
      "Iteration 154, loss = 0.18347998\n",
      "Iteration 155, loss = 0.18294017\n",
      "Iteration 156, loss = 0.18226532\n",
      "Iteration 157, loss = 0.18162436\n",
      "Iteration 158, loss = 0.18097198\n",
      "Iteration 159, loss = 0.18047701\n",
      "Iteration 160, loss = 0.17976987\n",
      "Iteration 161, loss = 0.17918124\n",
      "Iteration 162, loss = 0.17860879\n",
      "Iteration 163, loss = 0.17797620\n",
      "Iteration 164, loss = 0.17740546\n",
      "Iteration 165, loss = 0.17684650\n",
      "Iteration 166, loss = 0.17620202\n",
      "Iteration 167, loss = 0.17568163\n",
      "Iteration 168, loss = 0.17507693\n",
      "Iteration 169, loss = 0.17446662\n",
      "Iteration 170, loss = 0.17393752\n",
      "Iteration 171, loss = 0.17330068\n",
      "Iteration 172, loss = 0.17278433\n",
      "Iteration 173, loss = 0.17218601\n",
      "Iteration 174, loss = 0.17168796\n",
      "Iteration 175, loss = 0.17107852\n",
      "Iteration 176, loss = 0.17055760\n",
      "Iteration 177, loss = 0.17000098\n",
      "Iteration 178, loss = 0.16943565\n",
      "Iteration 179, loss = 0.16890429\n",
      "Iteration 180, loss = 0.16834607\n",
      "Iteration 181, loss = 0.16778667\n",
      "Iteration 182, loss = 0.16730226\n",
      "Iteration 183, loss = 0.16675700\n",
      "Iteration 184, loss = 0.16614352\n",
      "Iteration 185, loss = 0.16571430\n",
      "Iteration 186, loss = 0.16513035\n",
      "Iteration 187, loss = 0.16460671\n",
      "Iteration 188, loss = 0.16409255\n",
      "Iteration 189, loss = 0.16360065\n",
      "Iteration 190, loss = 0.16308622\n",
      "Iteration 191, loss = 0.16256666\n",
      "Iteration 192, loss = 0.16209130\n",
      "Iteration 193, loss = 0.16156617\n",
      "Iteration 194, loss = 0.16108522\n",
      "Iteration 195, loss = 0.16059266\n",
      "Iteration 196, loss = 0.16004827\n",
      "Iteration 197, loss = 0.15953242\n",
      "Iteration 198, loss = 0.15907575\n",
      "Iteration 199, loss = 0.15858687\n",
      "Iteration 200, loss = 0.15805681\n"
     ]
    },
    {
     "name": "stderr",
     "output_type": "stream",
     "text": [
      "C:\\Users\\Anthony\\anaconda3\\lib\\site-packages\\sklearn\\neural_network\\_multilayer_perceptron.py:582: ConvergenceWarning: Stochastic Optimizer: Maximum iterations (200) reached and the optimization hasn't converged yet.\n",
      "  warnings.warn(\n"
     ]
    },
    {
     "name": "stdout",
     "output_type": "stream",
     "text": [
      "0.942734693877551\n",
      "Wall time: 36.9 s\n"
     ]
    }
   ],
   "source": [
    "%%time\n",
    "\n",
    "estimators = [('minmax_scaler', MinMaxScaler()), ('mlp_classifier', MLPClassifier(activation='tanh',solver='sgd'))]\n",
    "pipe = Pipeline(estimators)\n",
    "pipe.fit(X_train, y_train)\n",
    "\n",
    "\n",
    "score=pipe.score(X_test, y_test)\n",
    "\n",
    "step_score_table = step_score_table.append({'step': \"Simple_MinMaxScaler+MLPClassifier\",'score':score}, ignore_index=True)\n",
    "print(score)"
   ]
  },
  {
   "cell_type": "code",
   "execution_count": 20,
   "metadata": {},
   "outputs": [
    {
     "data": {
      "text/plain": [
       "3"
      ]
     },
     "execution_count": 20,
     "metadata": {},
     "output_type": "execute_result"
    }
   ],
   "source": [
    "pipe['mlp_classifier'].n_layers_"
   ]
  },
  {
   "cell_type": "code",
   "execution_count": 21,
   "metadata": {},
   "outputs": [
    {
     "data": {
      "text/plain": [
       "dict_keys(['memory', 'steps', 'verbose', 'minmax_scaler', 'mlp_classifier', 'minmax_scaler__copy', 'minmax_scaler__feature_range', 'mlp_classifier__activation', 'mlp_classifier__alpha', 'mlp_classifier__batch_size', 'mlp_classifier__beta_1', 'mlp_classifier__beta_2', 'mlp_classifier__early_stopping', 'mlp_classifier__epsilon', 'mlp_classifier__hidden_layer_sizes', 'mlp_classifier__learning_rate', 'mlp_classifier__learning_rate_init', 'mlp_classifier__max_fun', 'mlp_classifier__max_iter', 'mlp_classifier__momentum', 'mlp_classifier__n_iter_no_change', 'mlp_classifier__nesterovs_momentum', 'mlp_classifier__power_t', 'mlp_classifier__random_state', 'mlp_classifier__shuffle', 'mlp_classifier__solver', 'mlp_classifier__tol', 'mlp_classifier__validation_fraction', 'mlp_classifier__verbose', 'mlp_classifier__warm_start'])"
      ]
     },
     "execution_count": 21,
     "metadata": {},
     "output_type": "execute_result"
    }
   ],
   "source": [
    "pipe.get_params().keys()"
   ]
  },
  {
   "cell_type": "code",
   "execution_count": 22,
   "metadata": {
    "tags": [
     "outputPrepend"
    ]
   },
   "outputs": [
    {
     "name": "stdout",
     "output_type": "stream",
     "text": [
      "Fitting 5 folds for each of 10 candidates, totalling 50 fits\n"
     ]
    },
    {
     "name": "stderr",
     "output_type": "stream",
     "text": [
      "[Parallel(n_jobs=-1)]: Using backend LokyBackend with 6 concurrent workers.\n",
      "[Parallel(n_jobs=-1)]: Done   1 tasks      | elapsed:  1.9min\n",
      "[Parallel(n_jobs=-1)]: Done   6 tasks      | elapsed:  1.9min\n",
      "[Parallel(n_jobs=-1)]: Done  13 tasks      | elapsed:  5.5min\n",
      "[Parallel(n_jobs=-1)]: Done  20 tasks      | elapsed:  7.3min\n",
      "[Parallel(n_jobs=-1)]: Done  29 tasks      | elapsed:  9.6min\n",
      "[Parallel(n_jobs=-1)]: Done  38 tasks      | elapsed: 12.8min\n",
      "[Parallel(n_jobs=-1)]: Done  45 out of  50 | elapsed: 14.7min remaining:  1.6min\n",
      "[Parallel(n_jobs=-1)]: Done  50 out of  50 | elapsed: 15.9min finished\n"
     ]
    },
    {
     "name": "stdout",
     "output_type": "stream",
     "text": [
      "Iteration 1, loss = 1.80657638\n",
      "Iteration 2, loss = 1.12853160\n",
      "Iteration 3, loss = 0.87124614\n",
      "Iteration 4, loss = 0.73977500\n",
      "Iteration 5, loss = 0.65902372\n",
      "Iteration 6, loss = 0.60391446\n",
      "Iteration 7, loss = 0.56346346\n",
      "Iteration 8, loss = 0.53250238\n",
      "Iteration 9, loss = 0.50781578\n",
      "Iteration 10, loss = 0.48748559\n",
      "Iteration 11, loss = 0.47056676\n",
      "Iteration 12, loss = 0.45603400\n",
      "Iteration 13, loss = 0.44359029\n",
      "Iteration 14, loss = 0.43253471\n",
      "Iteration 15, loss = 0.42278976\n",
      "Iteration 16, loss = 0.41404383\n",
      "Iteration 17, loss = 0.40621768\n",
      "Iteration 18, loss = 0.39899896\n",
      "Iteration 19, loss = 0.39251230\n",
      "Iteration 20, loss = 0.38651330\n",
      "Iteration 21, loss = 0.38097268\n",
      "Iteration 22, loss = 0.37580185\n",
      "Iteration 23, loss = 0.37094114\n",
      "Iteration 24, loss = 0.36644863\n",
      "Iteration 25, loss = 0.36221261\n",
      "Iteration 26, loss = 0.35829293\n",
      "Iteration 27, loss = 0.35455701\n",
      "Iteration 28, loss = 0.35090245\n",
      "Iteration 29, loss = 0.34753578\n",
      "Iteration 30, loss = 0.34429139\n",
      "Iteration 31, loss = 0.34122838\n",
      "Iteration 32, loss = 0.33820409\n",
      "Iteration 33, loss = 0.33544377\n",
      "Iteration 34, loss = 0.33267141\n",
      "Iteration 35, loss = 0.33012206\n",
      "Iteration 36, loss = 0.32750373\n",
      "Iteration 37, loss = 0.32512138\n",
      "Iteration 38, loss = 0.32272616\n",
      "Iteration 39, loss = 0.32051114\n",
      "Iteration 40, loss = 0.31825708\n",
      "Iteration 41, loss = 0.31612566\n",
      "Iteration 42, loss = 0.31403821\n",
      "Iteration 43, loss = 0.31201791\n",
      "Iteration 44, loss = 0.31000159\n",
      "Iteration 45, loss = 0.30806780\n",
      "Iteration 46, loss = 0.30628645\n",
      "Iteration 47, loss = 0.30443136\n",
      "Iteration 48, loss = 0.30258481\n",
      "Iteration 49, loss = 0.30092271\n",
      "Iteration 50, loss = 0.29918002\n",
      "Iteration 51, loss = 0.29750524\n",
      "Iteration 52, loss = 0.29590197\n",
      "Iteration 53, loss = 0.29433072\n",
      "Iteration 54, loss = 0.29273090\n",
      "Iteration 55, loss = 0.29119329\n",
      "Iteration 56, loss = 0.28956178\n",
      "Iteration 57, loss = 0.28816873\n",
      "Iteration 58, loss = 0.28661679\n",
      "Iteration 59, loss = 0.28520427\n",
      "Iteration 60, loss = 0.28386503\n",
      "Iteration 61, loss = 0.28239272\n",
      "Iteration 62, loss = 0.28104138\n",
      "Iteration 63, loss = 0.27971058\n",
      "Iteration 64, loss = 0.27832695\n",
      "Iteration 65, loss = 0.27700546\n",
      "Iteration 66, loss = 0.27567751\n",
      "Iteration 67, loss = 0.27433627\n",
      "Iteration 68, loss = 0.27315361\n",
      "Iteration 69, loss = 0.27191263\n",
      "Iteration 70, loss = 0.27063718\n",
      "Iteration 71, loss = 0.26945477\n",
      "Iteration 72, loss = 0.26815661\n",
      "Iteration 73, loss = 0.26702735\n",
      "Iteration 74, loss = 0.26585147\n",
      "Iteration 75, loss = 0.26464201\n",
      "Iteration 76, loss = 0.26350027\n",
      "Iteration 77, loss = 0.26232360\n",
      "Iteration 78, loss = 0.26120144\n",
      "Iteration 79, loss = 0.26009055\n",
      "Iteration 80, loss = 0.25895916\n",
      "Iteration 81, loss = 0.25788775\n",
      "Iteration 82, loss = 0.25685475\n",
      "Iteration 83, loss = 0.25570854\n",
      "Iteration 84, loss = 0.25464248\n",
      "Iteration 85, loss = 0.25359585\n",
      "Iteration 86, loss = 0.25257803\n",
      "Iteration 87, loss = 0.25158283\n",
      "Iteration 88, loss = 0.25046672\n",
      "Iteration 89, loss = 0.24950126\n",
      "Iteration 90, loss = 0.24843884\n",
      "Iteration 91, loss = 0.24746513\n",
      "Iteration 92, loss = 0.24647283\n",
      "Iteration 93, loss = 0.24543593\n",
      "Iteration 94, loss = 0.24452463\n",
      "Iteration 95, loss = 0.24354257\n",
      "Iteration 96, loss = 0.24256596\n",
      "Iteration 97, loss = 0.24158463\n",
      "Iteration 98, loss = 0.24070373\n",
      "Iteration 99, loss = 0.23977394\n",
      "Iteration 100, loss = 0.23883818\n",
      "Iteration 101, loss = 0.23784607\n",
      "Iteration 102, loss = 0.23691787\n",
      "Iteration 103, loss = 0.23603141\n",
      "Iteration 104, loss = 0.23513943\n",
      "Iteration 105, loss = 0.23428225\n",
      "Iteration 106, loss = 0.23334317\n",
      "Iteration 107, loss = 0.23251371\n",
      "Iteration 108, loss = 0.23158996\n",
      "Iteration 109, loss = 0.23066689\n",
      "Iteration 110, loss = 0.22984810\n",
      "Iteration 111, loss = 0.22898972\n",
      "Iteration 112, loss = 0.22812995\n",
      "Iteration 113, loss = 0.22729356\n",
      "Iteration 114, loss = 0.22652585\n",
      "Iteration 115, loss = 0.22564687\n",
      "Iteration 116, loss = 0.22481945\n",
      "Iteration 117, loss = 0.22400248\n",
      "Iteration 118, loss = 0.22319389\n",
      "Iteration 119, loss = 0.22234831\n",
      "Iteration 120, loss = 0.22157245\n",
      "Iteration 121, loss = 0.22070021\n",
      "Iteration 122, loss = 0.21990200\n",
      "Iteration 123, loss = 0.21917471\n",
      "Iteration 124, loss = 0.21840498\n",
      "Iteration 125, loss = 0.21759827\n",
      "Iteration 126, loss = 0.21682107\n",
      "Iteration 127, loss = 0.21605968\n",
      "Iteration 128, loss = 0.21531443\n",
      "Iteration 129, loss = 0.21452826\n",
      "Iteration 130, loss = 0.21372670\n",
      "Iteration 131, loss = 0.21307667\n",
      "Iteration 132, loss = 0.21233476\n",
      "Iteration 133, loss = 0.21158255\n",
      "Iteration 134, loss = 0.21081087\n",
      "Iteration 135, loss = 0.21010984\n",
      "Iteration 136, loss = 0.20938895\n",
      "Iteration 137, loss = 0.20864933\n",
      "Iteration 138, loss = 0.20799903\n",
      "Iteration 139, loss = 0.20727894\n",
      "Iteration 140, loss = 0.20652650\n",
      "Iteration 141, loss = 0.20584963\n",
      "Iteration 142, loss = 0.20515146\n",
      "Iteration 143, loss = 0.20446769\n",
      "Iteration 144, loss = 0.20381385\n",
      "Iteration 145, loss = 0.20310013\n",
      "Iteration 146, loss = 0.20242607\n",
      "Iteration 147, loss = 0.20173941\n",
      "Iteration 148, loss = 0.20109566\n",
      "Iteration 149, loss = 0.20043290\n",
      "Iteration 150, loss = 0.19980803\n",
      "Iteration 151, loss = 0.19910493\n",
      "Iteration 152, loss = 0.19839715\n",
      "Iteration 153, loss = 0.19782340\n",
      "Iteration 154, loss = 0.19711753\n",
      "Iteration 155, loss = 0.19650180\n",
      "Iteration 156, loss = 0.19587365\n",
      "Iteration 157, loss = 0.19521410\n",
      "Iteration 158, loss = 0.19459162\n",
      "Iteration 159, loss = 0.19400373\n",
      "Iteration 160, loss = 0.19333146\n",
      "Iteration 161, loss = 0.19269311\n",
      "Iteration 162, loss = 0.19214497\n",
      "Iteration 163, loss = 0.19152065\n",
      "Iteration 164, loss = 0.19088036\n",
      "Iteration 165, loss = 0.19033745\n",
      "Iteration 166, loss = 0.18970690\n",
      "Iteration 167, loss = 0.18906895\n",
      "Iteration 168, loss = 0.18850829\n",
      "Iteration 169, loss = 0.18789810\n",
      "Iteration 170, loss = 0.18732384\n",
      "Iteration 171, loss = 0.18682249\n",
      "Iteration 172, loss = 0.18618833\n",
      "Iteration 173, loss = 0.18562366\n",
      "Iteration 174, loss = 0.18502816\n",
      "Iteration 175, loss = 0.18446568\n",
      "Iteration 176, loss = 0.18388468\n",
      "Iteration 177, loss = 0.18332105\n",
      "Iteration 178, loss = 0.18278052\n",
      "Iteration 179, loss = 0.18219998\n",
      "Iteration 180, loss = 0.18165317\n",
      "Iteration 181, loss = 0.18108194\n",
      "Iteration 182, loss = 0.18053459\n",
      "Iteration 183, loss = 0.17996943\n",
      "Iteration 184, loss = 0.17952743\n",
      "Iteration 185, loss = 0.17890210\n",
      "Iteration 186, loss = 0.17831878\n",
      "Iteration 187, loss = 0.17782686\n",
      "Iteration 188, loss = 0.17730593\n",
      "Iteration 189, loss = 0.17678267\n",
      "Iteration 190, loss = 0.17629954\n",
      "Iteration 191, loss = 0.17577340\n",
      "Iteration 192, loss = 0.17525157\n",
      "Iteration 193, loss = 0.17472848\n",
      "Iteration 194, loss = 0.17419826\n",
      "Iteration 195, loss = 0.17366402\n",
      "Iteration 196, loss = 0.17315918\n",
      "Iteration 197, loss = 0.17264881\n",
      "Iteration 198, loss = 0.17216978\n",
      "Iteration 199, loss = 0.17163022\n",
      "Iteration 200, loss = 0.17113184\n",
      "{'mlp_classifier__alpha': 0.012}\n",
      "0.9347142857142858\n"
     ]
    },
    {
     "name": "stderr",
     "output_type": "stream",
     "text": [
      "C:\\Users\\Anthony\\anaconda3\\lib\\site-packages\\sklearn\\neural_network\\_multilayer_perceptron.py:582: ConvergenceWarning: Stochastic Optimizer: Maximum iterations (200) reached and the optimization hasn't converged yet.\n",
      "  warnings.warn(\n"
     ]
    }
   ],
   "source": [
    "n_iter_search = 10\n",
    "\n",
    "# specify parameters and distributions\n",
    "param_dist = {\n",
    "    \"mlp_classifier__alpha\": np.linspace(0.001,0.1,n_iter_search),\n",
    "    }\n",
    "\n",
    "# run randomized search\n",
    "random_search = RandomizedSearchCV(pipe, param_distributions=param_dist, n_iter=n_iter_search, n_jobs=-1, verbose=10)\n",
    "\n",
    "random_search.fit(X_train, y_train);\n",
    "\n",
    "print(random_search.best_params_)\n",
    "\n",
    "score=random_search.best_score_\n",
    "\n",
    "step_score_table = step_score_table.append({'step': \"alpha_MinMaxScaler+MLPClassifier\",'score':score}, ignore_index=True)\n",
    "print(score)"
   ]
  },
  {
   "cell_type": "code",
   "execution_count": 23,
   "metadata": {},
   "outputs": [
    {
     "name": "stdout",
     "output_type": "stream",
     "text": [
      "Fitting 5 folds for each of 3 candidates, totalling 15 fits\n"
     ]
    },
    {
     "name": "stderr",
     "output_type": "stream",
     "text": [
      "[Parallel(n_jobs=-1)]: Using backend LokyBackend with 6 concurrent workers.\n",
      "[Parallel(n_jobs=-1)]: Done   1 tasks      | elapsed:  4.3min\n",
      "[Parallel(n_jobs=-1)]: Done   6 out of  15 | elapsed:  4.5min remaining:  6.8min\n",
      "[Parallel(n_jobs=-1)]: Done   8 out of  15 | elapsed:  8.6min remaining:  7.5min\n",
      "[Parallel(n_jobs=-1)]: Done  10 out of  15 | elapsed:  8.8min remaining:  4.4min\n",
      "[Parallel(n_jobs=-1)]: Done  12 out of  15 | elapsed:  8.9min remaining:  2.2min\n",
      "[Parallel(n_jobs=-1)]: Done  15 out of  15 | elapsed: 11.4min finished\n"
     ]
    },
    {
     "name": "stdout",
     "output_type": "stream",
     "text": [
      "Iteration 1, loss = 1.41163458\n",
      "Iteration 2, loss = 0.74686348\n",
      "Iteration 3, loss = 0.58630450\n",
      "Iteration 4, loss = 0.51093485\n",
      "Iteration 5, loss = 0.46589459\n",
      "Iteration 6, loss = 0.43522215\n",
      "Iteration 7, loss = 0.41274726\n",
      "Iteration 8, loss = 0.39520180\n",
      "Iteration 9, loss = 0.38126985\n",
      "Iteration 10, loss = 0.36958579\n",
      "Iteration 11, loss = 0.35972358\n",
      "Iteration 12, loss = 0.35114052\n",
      "Iteration 13, loss = 0.34373261\n",
      "Iteration 14, loss = 0.33698119\n",
      "Iteration 15, loss = 0.33093658\n",
      "Iteration 16, loss = 0.32540646\n",
      "Iteration 17, loss = 0.32035674\n",
      "Iteration 18, loss = 0.31569036\n",
      "Iteration 19, loss = 0.31131590\n",
      "Iteration 20, loss = 0.30735670\n",
      "Iteration 21, loss = 0.30347223\n",
      "Iteration 22, loss = 0.29987825\n",
      "Iteration 23, loss = 0.29638779\n",
      "Iteration 24, loss = 0.29314451\n",
      "Iteration 25, loss = 0.28991683\n",
      "Iteration 26, loss = 0.28697397\n",
      "Iteration 27, loss = 0.28400189\n",
      "Iteration 28, loss = 0.28121503\n",
      "Iteration 29, loss = 0.27847477\n",
      "Iteration 30, loss = 0.27583995\n",
      "Iteration 31, loss = 0.27321507\n",
      "Iteration 32, loss = 0.27080996\n",
      "Iteration 33, loss = 0.26833004\n",
      "Iteration 34, loss = 0.26592269\n",
      "Iteration 35, loss = 0.26361467\n",
      "Iteration 36, loss = 0.26131424\n",
      "Iteration 37, loss = 0.25911904\n",
      "Iteration 38, loss = 0.25692034\n",
      "Iteration 39, loss = 0.25472653\n",
      "Iteration 40, loss = 0.25253557\n",
      "Iteration 41, loss = 0.25047832\n",
      "Iteration 42, loss = 0.24848753\n",
      "Iteration 43, loss = 0.24644803\n",
      "Iteration 44, loss = 0.24443253\n",
      "Iteration 45, loss = 0.24244243\n",
      "Iteration 46, loss = 0.24058033\n",
      "Iteration 47, loss = 0.23860867\n",
      "Iteration 48, loss = 0.23674129\n",
      "Iteration 49, loss = 0.23492493\n",
      "Iteration 50, loss = 0.23307589\n",
      "Iteration 51, loss = 0.23124276\n",
      "Iteration 52, loss = 0.22948747\n",
      "Iteration 53, loss = 0.22772236\n",
      "Iteration 54, loss = 0.22601060\n",
      "Iteration 55, loss = 0.22430884\n",
      "Iteration 56, loss = 0.22261158\n",
      "Iteration 57, loss = 0.22095109\n",
      "Iteration 58, loss = 0.21930746\n",
      "Iteration 59, loss = 0.21761276\n",
      "Iteration 60, loss = 0.21608146\n",
      "Iteration 61, loss = 0.21450809\n",
      "Iteration 62, loss = 0.21299475\n",
      "Iteration 63, loss = 0.21141539\n",
      "Iteration 64, loss = 0.20987920\n",
      "Iteration 65, loss = 0.20838255\n",
      "Iteration 66, loss = 0.20693872\n",
      "Iteration 67, loss = 0.20549400\n",
      "Iteration 68, loss = 0.20398651\n",
      "Iteration 69, loss = 0.20267109\n",
      "Iteration 70, loss = 0.20121977\n",
      "Iteration 71, loss = 0.19983363\n",
      "Iteration 72, loss = 0.19854512\n",
      "Iteration 73, loss = 0.19713722\n",
      "Iteration 74, loss = 0.19582453\n",
      "Iteration 75, loss = 0.19451018\n",
      "Iteration 76, loss = 0.19326125\n",
      "Iteration 77, loss = 0.19196834\n",
      "Iteration 78, loss = 0.19072356\n",
      "Iteration 79, loss = 0.18949116\n",
      "Iteration 80, loss = 0.18825057\n",
      "Iteration 81, loss = 0.18705453\n",
      "Iteration 82, loss = 0.18586376\n",
      "Iteration 83, loss = 0.18472725\n",
      "Iteration 84, loss = 0.18352557\n",
      "Iteration 85, loss = 0.18237335\n",
      "Iteration 86, loss = 0.18124058\n",
      "Iteration 87, loss = 0.18016603\n",
      "Iteration 88, loss = 0.17901776\n",
      "Iteration 89, loss = 0.17793992\n",
      "Iteration 90, loss = 0.17686901\n",
      "Iteration 91, loss = 0.17578679\n",
      "Iteration 92, loss = 0.17480838\n",
      "Iteration 93, loss = 0.17372635\n",
      "Iteration 94, loss = 0.17270858\n",
      "Iteration 95, loss = 0.17170940\n",
      "Iteration 96, loss = 0.17069830\n",
      "Iteration 97, loss = 0.16970576\n",
      "Iteration 98, loss = 0.16878301\n",
      "Iteration 99, loss = 0.16780048\n",
      "Iteration 100, loss = 0.16685737\n",
      "Iteration 101, loss = 0.16592691\n",
      "Iteration 102, loss = 0.16498208\n",
      "Iteration 103, loss = 0.16408115\n",
      "Iteration 104, loss = 0.16316587\n",
      "Iteration 105, loss = 0.16225762\n",
      "Iteration 106, loss = 0.16135348\n",
      "Iteration 107, loss = 0.16049883\n",
      "Iteration 108, loss = 0.15963685\n",
      "Iteration 109, loss = 0.15878071\n",
      "Iteration 110, loss = 0.15793295\n",
      "Iteration 111, loss = 0.15711380\n",
      "Iteration 112, loss = 0.15628041\n",
      "Iteration 113, loss = 0.15544203\n",
      "Iteration 114, loss = 0.15462492\n",
      "Iteration 115, loss = 0.15383129\n",
      "Iteration 116, loss = 0.15306026\n",
      "Iteration 117, loss = 0.15224852\n",
      "Iteration 118, loss = 0.15150377\n",
      "Iteration 119, loss = 0.15070578\n",
      "Iteration 120, loss = 0.14993758\n",
      "Iteration 121, loss = 0.14920672\n",
      "Iteration 122, loss = 0.14843862\n",
      "Iteration 123, loss = 0.14769654\n",
      "Iteration 124, loss = 0.14700805\n",
      "Iteration 125, loss = 0.14626437\n",
      "Iteration 126, loss = 0.14557815\n",
      "Iteration 127, loss = 0.14481737\n",
      "Iteration 128, loss = 0.14415217\n",
      "Iteration 129, loss = 0.14343839\n",
      "Iteration 130, loss = 0.14275986\n",
      "Iteration 131, loss = 0.14204961\n",
      "Iteration 132, loss = 0.14141081\n",
      "Iteration 133, loss = 0.14069718\n",
      "Iteration 134, loss = 0.14005827\n",
      "Iteration 135, loss = 0.13940291\n",
      "Iteration 136, loss = 0.13875992\n",
      "Iteration 137, loss = 0.13809589\n",
      "Iteration 138, loss = 0.13745040\n",
      "Iteration 139, loss = 0.13684224\n",
      "Iteration 140, loss = 0.13621501\n",
      "Iteration 141, loss = 0.13560483\n",
      "Iteration 142, loss = 0.13498601\n",
      "Iteration 143, loss = 0.13436379\n",
      "Iteration 144, loss = 0.13377226\n",
      "Iteration 145, loss = 0.13318420\n",
      "Iteration 146, loss = 0.13257018\n",
      "Iteration 147, loss = 0.13193102\n",
      "Iteration 148, loss = 0.13143386\n",
      "Iteration 149, loss = 0.13082082\n",
      "Iteration 150, loss = 0.13022507\n",
      "Iteration 151, loss = 0.12965272\n",
      "Iteration 152, loss = 0.12910644\n",
      "Iteration 153, loss = 0.12853656\n",
      "Iteration 154, loss = 0.12798318\n",
      "Iteration 155, loss = 0.12744190\n",
      "Iteration 156, loss = 0.12690121\n",
      "Iteration 157, loss = 0.12633819\n",
      "Iteration 158, loss = 0.12580159\n",
      "Iteration 159, loss = 0.12525963\n",
      "Iteration 160, loss = 0.12471842\n",
      "Iteration 161, loss = 0.12422288\n",
      "Iteration 162, loss = 0.12369042\n",
      "Iteration 163, loss = 0.12317528\n",
      "Iteration 164, loss = 0.12267953\n",
      "Iteration 165, loss = 0.12217092\n",
      "Iteration 166, loss = 0.12164037\n",
      "Iteration 167, loss = 0.12116637\n",
      "Iteration 168, loss = 0.12068313\n",
      "Iteration 169, loss = 0.12017293\n",
      "Iteration 170, loss = 0.11971229\n",
      "Iteration 171, loss = 0.11916199\n",
      "Iteration 172, loss = 0.11873461\n",
      "Iteration 173, loss = 0.11820799\n",
      "Iteration 174, loss = 0.11775112\n",
      "Iteration 175, loss = 0.11729627\n",
      "Iteration 176, loss = 0.11680552\n",
      "Iteration 177, loss = 0.11634602\n",
      "Iteration 178, loss = 0.11588068\n",
      "Iteration 179, loss = 0.11543562\n",
      "Iteration 180, loss = 0.11498756\n",
      "Iteration 181, loss = 0.11452230\n",
      "Iteration 182, loss = 0.11406132\n",
      "Iteration 183, loss = 0.11361288\n",
      "Iteration 184, loss = 0.11318171\n",
      "Iteration 185, loss = 0.11275206\n",
      "Iteration 186, loss = 0.11228746\n",
      "Iteration 187, loss = 0.11187117\n",
      "Iteration 188, loss = 0.11146421\n",
      "Iteration 189, loss = 0.11100435\n",
      "Iteration 190, loss = 0.11059983\n",
      "Iteration 191, loss = 0.11015136\n",
      "Iteration 192, loss = 0.10973101\n",
      "Iteration 193, loss = 0.10934166\n",
      "Iteration 194, loss = 0.10892666\n",
      "Iteration 195, loss = 0.10852733\n",
      "Iteration 196, loss = 0.10812799\n",
      "Iteration 197, loss = 0.10769199\n",
      "Iteration 198, loss = 0.10730687\n",
      "Iteration 199, loss = 0.10690254\n",
      "Iteration 200, loss = 0.10652091\n",
      "{'mlp_classifier__learning_rate': 'adaptive'}\n",
      "0.9567755102040817\n"
     ]
    },
    {
     "name": "stderr",
     "output_type": "stream",
     "text": [
      "C:\\Users\\Anthony\\anaconda3\\lib\\site-packages\\sklearn\\neural_network\\_multilayer_perceptron.py:582: ConvergenceWarning: Stochastic Optimizer: Maximum iterations (200) reached and the optimization hasn't converged yet.\n",
      "  warnings.warn(\n"
     ]
    }
   ],
   "source": [
    "n_iter_search = 3\n",
    "\n",
    "# specify parameters and distributions\n",
    "param_dist = {\n",
    "    \"mlp_classifier__learning_rate\": ['constant', 'invscaling', 'adaptive']\n",
    "    }\n",
    "\n",
    "# run randomized search\n",
    "random_search = RandomizedSearchCV(pipe, param_distributions=param_dist, n_iter=n_iter_search, n_jobs=-1, verbose=10)\n",
    "\n",
    "random_search.fit(X_test, y_test);\n",
    "\n",
    "print(random_search.best_params_)\n",
    "\n",
    "score=random_search.best_score_\n",
    "\n",
    "step_score_table = step_score_table.append({'step': \"learning_rate_MinMaxScaler+MLPClassifier\",'score':score}, ignore_index=True)\n",
    "print(score)"
   ]
  },
  {
   "cell_type": "code",
   "execution_count": 24,
   "metadata": {},
   "outputs": [
    {
     "name": "stderr",
     "output_type": "stream",
     "text": [
      "C:\\Users\\Anthony\\anaconda3\\lib\\site-packages\\sklearn\\neural_network\\_multilayer_perceptron.py:582: ConvergenceWarning: Stochastic Optimizer: Maximum iterations (200) reached and the optimization hasn't converged yet.\n",
      "  warnings.warn(\n"
     ]
    },
    {
     "name": "stdout",
     "output_type": "stream",
     "text": [
      "0.9395714285714286\n",
      "Wall time: 1min 34s\n"
     ]
    }
   ],
   "source": [
    "%%time\n",
    "\n",
    "estimators = [('minmax_scaler', MinMaxScaler()), ('mlp_classifier', MLPClassifier(hidden_layer_sizes=(200,),activation='tanh',solver='sgd'))]\n",
    "pipe = Pipeline(estimators)\n",
    "pipe.fit(X_train, y_train)\n",
    "\n",
    "score=pipe.score(X_test, y_test)\n",
    "\n",
    "step_score_table = step_score_table.append({'step': \"3layers_MinMaxScaler+MLPClassifier\",'score':score}, ignore_index=True)\n",
    "print(score)"
   ]
  },
  {
   "cell_type": "code",
   "execution_count": 25,
   "metadata": {},
   "outputs": [
    {
     "data": {
      "text/plain": [
       "3"
      ]
     },
     "execution_count": 25,
     "metadata": {},
     "output_type": "execute_result"
    }
   ],
   "source": [
    "pipe['mlp_classifier'].n_layers_"
   ]
  },
  {
   "cell_type": "code",
   "execution_count": 26,
   "metadata": {},
   "outputs": [
    {
     "name": "stderr",
     "output_type": "stream",
     "text": [
      "C:\\Users\\Anthony\\anaconda3\\lib\\site-packages\\sklearn\\neural_network\\_multilayer_perceptron.py:582: ConvergenceWarning: Stochastic Optimizer: Maximum iterations (200) reached and the optimization hasn't converged yet.\n",
      "  warnings.warn(\n"
     ]
    },
    {
     "name": "stdout",
     "output_type": "stream",
     "text": [
      "0.9567959183673469\n",
      "Wall time: 2min 12s\n"
     ]
    }
   ],
   "source": [
    "%%time\n",
    "\n",
    "estimators = [('minmax_scaler', MinMaxScaler()), ('mlp_classifier', MLPClassifier(hidden_layer_sizes=(100,200,300,200,100),activation='tanh',solver='sgd'))]\n",
    "pipe = Pipeline(estimators)\n",
    "pipe.fit(X_train, y_train)\n",
    "\n",
    "score=pipe.score(X_test, y_test)\n",
    "\n",
    "step_score_table = step_score_table.append({'step': \"6layers_MinMaxScaler+MLPClassifier\",'score':score}, ignore_index=True)\n",
    "print(score)"
   ]
  },
  {
   "cell_type": "code",
   "execution_count": 27,
   "metadata": {},
   "outputs": [
    {
     "name": "stderr",
     "output_type": "stream",
     "text": [
      "C:\\Users\\Anthony\\anaconda3\\lib\\site-packages\\sklearn\\neural_network\\_multilayer_perceptron.py:582: ConvergenceWarning: Stochastic Optimizer: Maximum iterations (200) reached and the optimization hasn't converged yet.\n",
      "  warnings.warn(\n"
     ]
    },
    {
     "name": "stdout",
     "output_type": "stream",
     "text": [
      "0.957\n",
      "Wall time: 2min 8s\n"
     ]
    }
   ],
   "source": [
    "%%time\n",
    "\n",
    "estimators = [('minmax_scaler', MinMaxScaler()), ('mlp_classifier', MLPClassifier(hidden_layer_sizes=(100,200,300,200,100), alpha=0.012, learning_rate='adaptive', activation='tanh', solver='sgd'))]\n",
    "pipe = Pipeline(estimators)\n",
    "pipe.fit(X_train, y_train)\n",
    "\n",
    "score=pipe.score(X_test, y_test)\n",
    "\n",
    "step_score_table = step_score_table.append({'step': \"optimized_MinMaxScaler+MLPClassifier\",'score':score}, ignore_index=True)\n",
    "print(score)"
   ]
  },
  {
   "cell_type": "code",
   "execution_count": 29,
   "metadata": {},
   "outputs": [
    {
     "data": {
      "text/html": [
       "<div>\n",
       "<style scoped>\n",
       "    .dataframe tbody tr th:only-of-type {\n",
       "        vertical-align: middle;\n",
       "    }\n",
       "\n",
       "    .dataframe tbody tr th {\n",
       "        vertical-align: top;\n",
       "    }\n",
       "\n",
       "    .dataframe thead th {\n",
       "        text-align: right;\n",
       "    }\n",
       "</style>\n",
       "<table border=\"1\" class=\"dataframe\">\n",
       "  <thead>\n",
       "    <tr style=\"text-align: right;\">\n",
       "      <th></th>\n",
       "      <th>step</th>\n",
       "      <th>score</th>\n",
       "    </tr>\n",
       "  </thead>\n",
       "  <tbody>\n",
       "    <tr>\n",
       "      <th>0</th>\n",
       "      <td>Simple_MinMaxScaler+MLPClassifier</td>\n",
       "      <td>0.942735</td>\n",
       "    </tr>\n",
       "    <tr>\n",
       "      <th>1</th>\n",
       "      <td>alpha_MinMaxScaler+MLPClassifier</td>\n",
       "      <td>0.934714</td>\n",
       "    </tr>\n",
       "    <tr>\n",
       "      <th>2</th>\n",
       "      <td>learning_rate_MinMaxScaler+MLPClassifier</td>\n",
       "      <td>0.956776</td>\n",
       "    </tr>\n",
       "    <tr>\n",
       "      <th>3</th>\n",
       "      <td>3layers_MinMaxScaler+MLPClassifier</td>\n",
       "      <td>0.939571</td>\n",
       "    </tr>\n",
       "    <tr>\n",
       "      <th>4</th>\n",
       "      <td>6layers_MinMaxScaler+MLPClassifier</td>\n",
       "      <td>0.956796</td>\n",
       "    </tr>\n",
       "    <tr>\n",
       "      <th>5</th>\n",
       "      <td>optimized_MinMaxScaler+MLPClassifier</td>\n",
       "      <td>0.957000</td>\n",
       "    </tr>\n",
       "  </tbody>\n",
       "</table>\n",
       "</div>"
      ],
      "text/plain": [
       "                                       step     score\n",
       "0         Simple_MinMaxScaler+MLPClassifier  0.942735\n",
       "1          alpha_MinMaxScaler+MLPClassifier  0.934714\n",
       "2  learning_rate_MinMaxScaler+MLPClassifier  0.956776\n",
       "3        3layers_MinMaxScaler+MLPClassifier  0.939571\n",
       "4        6layers_MinMaxScaler+MLPClassifier  0.956796\n",
       "5      optimized_MinMaxScaler+MLPClassifier  0.957000"
      ]
     },
     "execution_count": 29,
     "metadata": {},
     "output_type": "execute_result"
    }
   ],
   "source": [
    "step_score_table"
   ]
  },
  {
   "cell_type": "code",
   "execution_count": 31,
   "metadata": {},
   "outputs": [
    {
     "data": {
      "image/png": "[encoded data removed]",
      "text/plain": [
       "<Figure size 1080x504 with 1 Axes>"
      ]
     },
     "metadata": {
      "needs_background": "light"
     },
     "output_type": "display_data"
    }
   ],
   "source": [
    "import matplotlib.pyplot as plt\n",
    "fig = plt.figure(figsize=(15, 7))\n",
    "ax = fig.add_axes([0,0,1,1])\n",
    "ax.barh(step_score_table.step, step_score_table.score)\n",
    "ax.set_title('output score of each tested models')\n",
    "ax.set_xlabel('models Scores')\n",
    "plt.show()"
   ]
  },
  {
   "cell_type": "markdown",
   "metadata": {},
   "source": [
    "We can see from this plot that the learning rate greatly improved the score compared to the standard estimator.\n",
    "However here between standard estimator and optimized alpha, the score did drop. Which mean that the range taken in the RandomizedSearchCV is not optimized and should hence be change in order to have a better score than the standard scaler. \n",
    "Improving number of intra-layer did improve the overall score of the model too.\n",
    "Which in the end helped to gain 0.01 point of score.\n",
    "However the train dataset reprensent only 30% of the oveall dataset which should be used in order to guarantee a better training but would take far more time to compute.\n"
   ]
  },
  {
   "cell_type": "markdown",
   "metadata": {},
   "source": [
    "Concerning the number of experiments that should be done in order to find the best parameters it would require far more experiment than done here.\n",
    "As an exemple, here the parameter alpha don't improve the overall score which mean that the range is not appropriate and should be hence changed. This would hence take more experiments to determine the best range to search alpha.\n",
    "However for learning rate it only take one experiment since the range is specified in the model documentation and hence in this case require only 1 experiment."
   ]
  },
  {
   "cell_type": "code",
   "execution_count": null,
   "metadata": {},
   "outputs": [],
   "source": []
  }
 ],
 "metadata": {
  "kernelspec": {
   "display_name": "Python 3",
   "language": "python",
   "name": "python3"
  },
  "language_info": {
   "codemirror_mode": {
    "name": "ipython",
    "version": 3
   },
   "file_extension": ".py",
   "mimetype": "text/x-python",
   "name": "python",
   "nbconvert_exporter": "python",
   "pygments_lexer": "ipython3",
   "version": "3.8.5"
  }
 },
 "nbformat": 4,
 "nbformat_minor": 4
}
